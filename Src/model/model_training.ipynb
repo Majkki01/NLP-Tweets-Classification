{
 "cells": [
  {
   "cell_type": "code",
   "execution_count": 1,
   "metadata": {},
   "outputs": [
    {
     "name": "stdout",
     "output_type": "stream",
     "text": [
      "557638 69705 69705\n"
     ]
    }
   ],
   "source": [
    "import pandas as pd\n",
    "import numpy as np\n",
    "import os\n",
    "\n",
    "data_path = f'{os.path.dirname(os.path.dirname(os.getcwd()))}/dataset/'\n",
    "data = pd.read_parquet(f'{data_path}/dataset_clean.parquet')\n",
    "\n",
    "#splitting dataset into train set (80%), validation set (10%) and test set (10%)\n",
    "data_train, data_val, data_test = np.split(data.sample(frac=1, random_state=42), [int(.8*len(data)), int(.9*len(data))])\n",
    "\n",
    "print(len(data_train),len(data_val), len(data_test))"
   ]
  }
 ],
 "metadata": {
  "kernelspec": {
   "display_name": "Python 3",
   "language": "python",
   "name": "python3"
  },
  "language_info": {
   "codemirror_mode": {
    "name": "ipython",
    "version": 3
   },
   "file_extension": ".py",
   "mimetype": "text/x-python",
   "name": "python",
   "nbconvert_exporter": "python",
   "pygments_lexer": "ipython3",
   "version": "3.7.0"
  },
  "orig_nbformat": 4,
  "vscode": {
   "interpreter": {
    "hash": "909d723cec5291c4055df8124cfc791cf35b92ed5fc550a26d94cc50a351d0c5"
   }
  }
 },
 "nbformat": 4,
 "nbformat_minor": 2
}
